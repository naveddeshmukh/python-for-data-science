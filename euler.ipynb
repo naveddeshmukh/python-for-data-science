{
 "cells": [
  {
   "attachments": {},
   "cell_type": "markdown",
   "metadata": {},
   "source": [
    "If we list all the natural numbers below that \n",
    "are multiples of 3 or 5, we get 3,5,6 and 9.\n",
    "The sum of these multiples is 23.\n",
    "Find the sum of all the multiples of 3 or 5 \n",
    "below 100."
   ]
  },
  {
   "cell_type": "code",
   "execution_count": 26,
   "metadata": {},
   "outputs": [
    {
     "name": "stdout",
     "output_type": "stream",
     "text": [
      "2318\n"
     ]
    }
   ],
   "source": [
    "limit = 100\n",
    "num = 1\n",
    "sum = 0\n",
    "\n",
    "while num < limit:\n",
    "    if num % 3 == 0 or num % 5 == 0:\n",
    "        sum = sum + num\n",
    "    num = num + 1\n",
    "\n",
    "print(sum)"
   ]
  }
 ],
 "metadata": {
  "kernelspec": {
   "display_name": "Python 3",
   "language": "python",
   "name": "python3"
  },
  "language_info": {
   "codemirror_mode": {
    "name": "ipython",
    "version": 3
   },
   "file_extension": ".py",
   "mimetype": "text/x-python",
   "name": "python",
   "nbconvert_exporter": "python",
   "pygments_lexer": "ipython3",
   "version": "3.11.4"
  },
  "orig_nbformat": 4
 },
 "nbformat": 4,
 "nbformat_minor": 2
}
