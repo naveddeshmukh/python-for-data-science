{
 "cells": [
  {
   "cell_type": "code",
   "execution_count": 35,
   "metadata": {},
   "outputs": [
    {
     "name": "stdout",
     "output_type": "stream",
     "text": [
      "284812298108489611757988937681460995615380088782304890986477195645969271404032323901\n"
     ]
    }
   ],
   "source": [
    "def fib(n, cache={}):  # n = 3\n",
    "    # exit condition\n",
    "    if n < 2:\n",
    "        return 1\n",
    "\n",
    "    if n in cache:\n",
    "        return cache[n]\n",
    "\n",
    "    cache[n] = fib(n - 1, cache) + fib(n - 2, cache)\n",
    "\n",
    "    return cache[n]\n",
    "\n",
    "\n",
    "print(fib(5))"
   ]
  },
  {
   "cell_type": "code",
   "execution_count": 19,
   "metadata": {},
   "outputs": [
    {
     "name": "stdout",
     "output_type": "stream",
     "text": [
      "4000000\n"
     ]
    }
   ],
   "source": [
    "cache = {}"
   ]
  }
 ],
 "metadata": {
  "kernelspec": {
   "display_name": "Python 3",
   "language": "python",
   "name": "python3"
  },
  "language_info": {
   "codemirror_mode": {
    "name": "ipython",
    "version": 3
   },
   "file_extension": ".py",
   "mimetype": "text/x-python",
   "name": "python",
   "nbconvert_exporter": "python",
   "pygments_lexer": "ipython3",
   "version": "3.11.4"
  },
  "orig_nbformat": 4
 },
 "nbformat": 4,
 "nbformat_minor": 2
}
