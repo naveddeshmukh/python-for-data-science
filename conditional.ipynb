{
 "cells": [
  {
   "attachments": {},
   "cell_type": "markdown",
   "metadata": {},
   "source": [
    "# Problem Statement\n",
    "\n",
    "Write a program to store a candidate's name, age and legal gaurdian name only if the candidate is a minor."
   ]
  },
  {
   "cell_type": "code",
   "execution_count": null,
   "metadata": {},
   "outputs": [],
   "source": [
    "candidate_name = input(\"Enter your name: \")\n",
    "age = int(input(\"Enter your age: \"))\n",
    "gaurdian_name = \"\"\n",
    "\n",
    "if age < 18:\n",
    "    gaurdian_name = input(\"Enter Gaurdian: \")\n",
    "\n",
    "print(\"{} is {} years old\".format(candidate_name,age))\n",
    "\n",
    "if age < 18:\n",
    "    print(\"{} is the gaurdian\".format(gaurdian_name))\n"
   ]
  },
  {
   "attachments": {},
   "cell_type": "markdown",
   "metadata": {},
   "source": [
    "Write a program to display if is a number is even or odd.\n",
    "\n",
    "A number is called even, if it is divisible 2 else its an odd number"
   ]
  },
  {
   "cell_type": "code",
   "execution_count": null,
   "metadata": {},
   "outputs": [],
   "source": [
    "num = int(input(\"Enter a number: \"))\n",
    "remainder = num % 2\n",
    "\n",
    "if remainder == 0:\n",
    "    print(\"Even\")\n",
    "else:\n",
    "    print(\"Odd\")"
   ]
  },
  {
   "attachments": {},
   "cell_type": "markdown",
   "metadata": {},
   "source": [
    "Problem Statement: FizzBuzz\n",
    "\n",
    "For numbers divisible by 3, instead of the number, the program should print \"Fizz.\"\n",
    "For numbers divisi\n",
    "ble by 5, instead of the number, the program should print \"Buzz.\"\n",
    "For numbers divisible by both 3 and 5, the program should print \"FizzBuzz.\"\n",
    "For all other numbers, the program should print the number itself."
   ]
  },
  {
   "cell_type": "code",
   "execution_count": null,
   "metadata": {},
   "outputs": [],
   "source": [
    "number = int(input(\"Enter a number: \"))\n",
    "\n",
    "if number % 3 == 0 and number % 5 == 0: \n",
    "    print(\"FizzBuzz\")\n",
    "elif number % 3 == 0:\n",
    "    print(\"Fizz\")\n",
    "elif number % 5 == 0:\n",
    "    print(\"Buzz\")\n",
    "else:\n",
    "    print(number)"
   ]
  },
  {
   "cell_type": "code",
   "execution_count": null,
   "metadata": {},
   "outputs": [],
   "source": [
    "result = 10 == 10 and 11 == 12 or 3 == 3\n",
    "print(result)"
   ]
  },
  {
   "cell_type": "code",
   "execution_count": null,
   "metadata": {},
   "outputs": [],
   "source": [
    "age = 11\n",
    "print(not age == 10)"
   ]
  },
  {
   "attachments": {},
   "cell_type": "markdown",
   "metadata": {},
   "source": [
    "Problem Statement: Grade Calculator\n",
    "\n",
    "You are tasked with creating a simple grade calculator program for a teacher. The program should take a student's numerical score as input and output their corresponding letter grade based on the following grading scale:\n",
    "\n",
    "Scores between 90 and 100 (inclusive) should receive an \"A\" grade.\n",
    "Scores between 80 and 89 (inclusive) should receive a \"B\" grade.\n",
    "Scores between 70 and 79 (inclusive) should receive a \"C\" grade.\n",
    "Scores between 60 and 69 (inclusive) should receive a \"D\" grade.\n",
    "Scores below 60 should receive an \"F\" grade."
   ]
  }
 ],
 "metadata": {
  "kernelspec": {
   "display_name": "Python 3",
   "language": "python",
   "name": "python3"
  },
  "language_info": {
   "codemirror_mode": {
    "name": "ipython",
    "version": 3
   },
   "file_extension": ".py",
   "mimetype": "text/x-python",
   "name": "python",
   "nbconvert_exporter": "python",
   "pygments_lexer": "ipython3",
   "version": "3.11.4"
  },
  "orig_nbformat": 4
 },
 "nbformat": 4,
 "nbformat_minor": 2
}
