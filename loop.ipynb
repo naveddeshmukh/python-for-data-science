{
 "cells": [
  {
   "cell_type": "code",
   "execution_count": 8,
   "metadata": {},
   "outputs": [
    {
     "name": "stdout",
     "output_type": "stream",
     "text": [
      "1\n",
      "3\n",
      "5\n",
      "7\n",
      "9\n",
      "11\n",
      "13\n",
      "15\n",
      "loop is done\n"
     ]
    }
   ],
   "source": [
    "num = 1\n",
    "choice = \"y\"\n",
    "\n",
    "while choice == \"y\":\n",
    "    print(num)\n",
    "    num = num + 2\n",
    "    choice = input(\"Do you wish to continue (y/n): \")\n",
    "\n",
    "print(\"loop is done\")"
   ]
  }
 ],
 "metadata": {
  "kernelspec": {
   "display_name": "Python 3",
   "language": "python",
   "name": "python3"
  },
  "language_info": {
   "codemirror_mode": {
    "name": "ipython",
    "version": 3
   },
   "file_extension": ".py",
   "mimetype": "text/x-python",
   "name": "python",
   "nbconvert_exporter": "python",
   "pygments_lexer": "ipython3",
   "version": "3.11.4"
  },
  "orig_nbformat": 4
 },
 "nbformat": 4,
 "nbformat_minor": 2
}
