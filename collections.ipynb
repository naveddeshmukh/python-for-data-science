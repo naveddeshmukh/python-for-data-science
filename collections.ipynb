{
 "cells": [
  {
   "cell_type": "code",
   "execution_count": 21,
   "metadata": {},
   "outputs": [
    {
     "name": "stdout",
     "output_type": "stream",
     "text": [
      "Tushar\n",
      "Naved\n",
      "Tanishq\n"
     ]
    }
   ],
   "source": [
    "names = [\"Tushar\", \"Naved\", \"Tanishq\"]  # 0  # 1  # 2  # 3  # 4\n",
    "\n",
    "n = 0\n",
    "limit = len(names)\n",
    "\n",
    "while n < limit:\n",
    "    print(names[n])\n",
    "    n = n + 1"
   ]
  },
  {
   "cell_type": "code",
   "execution_count": 23,
   "metadata": {},
   "outputs": [
    {
     "name": "stdout",
     "output_type": "stream",
     "text": [
      "30\n"
     ]
    }
   ],
   "source": [
    "dc = {\n",
    "    \"tanishq\": 22,\n",
    "    \"tanishq\": 30,\n",
    "    0: 112\n",
    "}\n",
    "\n",
    "print(dc[\"tanishq\"])"
   ]
  },
  {
   "cell_type": "code",
   "execution_count": 26,
   "metadata": {},
   "outputs": [
    {
     "name": "stdout",
     "output_type": "stream",
     "text": [
      "['Naved', 'Tanishq', 'Bansi', 'Nirjara', 'Vishnu', 'stpp']\n"
     ]
    }
   ],
   "source": [
    "\n",
    "inputs = [\"Rahul\"]\n",
    "\n",
    "while True:\n",
    "    user_input = input(\"Enter your input: \")\n",
    "\n",
    "    if user_input == \"stop\":\n",
    "        break\n",
    "\n",
    "    inputs.append(user_input)\n",
    "\n",
    "print(inputs)\n"
   ]
  }
 ],
 "metadata": {
  "kernelspec": {
   "display_name": "Python 3",
   "language": "python",
   "name": "python3"
  },
  "language_info": {
   "name": "python",
   "version": "3.11.4"
  },
  "orig_nbformat": 4
 },
 "nbformat": 4,
 "nbformat_minor": 2
}
